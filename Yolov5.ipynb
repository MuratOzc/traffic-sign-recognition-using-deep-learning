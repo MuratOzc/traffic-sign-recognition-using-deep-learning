{
 "cells": [
  {
   "cell_type": "code",
   "execution_count": null,
   "metadata": {},
   "outputs": [],
   "source": [
    "import os\n",
    "import xml.etree.ElementTree as ET\n",
    "from PIL import Image\n",
    "import matplotlib.pyplot as plt\n",
    "import matplotlib.patches as patches\n",
    "import numpy as np\n",
    "from sklearn.model_selection import train_test_split\n",
    "import yaml\n",
    "import torch\n",
    "import cv2"
   ]
  },
  {
   "cell_type": "code",
   "execution_count": null,
   "metadata": {},
   "outputs": [],
   "source": [
    "# Path to the images and annotations directories\n",
    "images_dir = 'images'\n",
    "annotations_dir = 'annotations'\n",
    "\n",
    "# List a few files from each directory\n",
    "image_files = os.listdir(images_dir)\n",
    "annotation_files = os.listdir(annotations_dir)"
   ]
  },
  {
   "cell_type": "code",
   "execution_count": null,
   "metadata": {},
   "outputs": [],
   "source": [
    "# Function to parse an XML file and extract information\n",
    "def parse_annotation(file_path):\n",
    "    tree = ET.parse(file_path)\n",
    "    root = tree.getroot()\n",
    "    annotation_data = {}\n",
    "    \n",
    "    # Extracting relevant information from the XML\n",
    "    for elem in root:\n",
    "        if elem.tag == 'filename':\n",
    "            annotation_data['filename'] = elem.text\n",
    "        elif elem.tag == 'size':\n",
    "            annotation_data['size'] = {child.tag: int(child.text) for child in elem}\n",
    "        elif elem.tag == 'object':\n",
    "            obj_data = {}\n",
    "            for child in elem:\n",
    "                if child.tag == 'name':\n",
    "                    obj_data['class'] = child.text\n",
    "                elif child.tag == 'bndbox':\n",
    "                    obj_data['bndbox'] = {grandchild.tag: int(grandchild.text) for grandchild in child}\n",
    "            if 'objects' not in annotation_data:\n",
    "                annotation_data['objects'] = []\n",
    "            annotation_data['objects'].append(obj_data)\n",
    "\n",
    "    return annotation_data"
   ]
  },
  {
   "cell_type": "code",
   "execution_count": null,
   "metadata": {},
   "outputs": [],
   "source": [
    "def yolo_format_bbox(img_width, img_height, bbox):\n",
    "    \"\"\"\n",
    "    Convert bounding box to YOLO format.\n",
    "    \"\"\"\n",
    "    xmin, ymin, xmax, ymax = bbox['xmin'], bbox['ymin'], bbox['xmax'], bbox['ymax']\n",
    "    x_center = ((xmin + xmax) / 2) / img_width\n",
    "    y_center = ((ymin + ymax) / 2) / img_height\n",
    "    width = (xmax - xmin) / img_width\n",
    "    height = (ymax - ymin) / img_height\n",
    "    return [x_center, y_center, width, height]"
   ]
  },
  {
   "cell_type": "code",
   "execution_count": null,
   "metadata": {},
   "outputs": [],
   "source": [
    "# Function to resize an image and its corresponding bounding boxes\n",
    "def resize_image_and_bboxes(image_path, annotation, target_size=(224, 224)):\n",
    "    # Open the image\n",
    "    with Image.open(image_path) as img:\n",
    "        original_size = img.size\n",
    "        # Resize the image\n",
    "        img_resized = img.resize(target_size)\n",
    "\n",
    "    # Calculate resize ratio\n",
    "    ratio = (target_size[0] / original_size[0], target_size[1] / original_size[1])\n",
    "    # Update bounding box coordinates\n",
    "    yolo_annotations = []\n",
    "\n",
    "    for obj in annotation['objects']:\n",
    "        xmin = int(obj['bndbox']['xmin'] * ratio[0])\n",
    "        ymin = int(obj['bndbox']['ymin'] * ratio[1])\n",
    "        xmax = int(obj['bndbox']['xmax'] * ratio[0])\n",
    "        ymax = int(obj['bndbox']['ymax'] * ratio[1])\n",
    "        \n",
    "        # Convert bbox to YOLO format\n",
    "        yolo_bbox = yolo_format_bbox(target_size[0], target_size[1], {'xmin': xmin, 'ymin': ymin, 'xmax': xmax, 'ymax': ymax})\n",
    "        yolo_annotations.append({'class': obj['class'], 'bndbox': yolo_bbox})\n",
    "\n",
    "    return img_resized, yolo_annotations"
   ]
  },
  {
   "cell_type": "code",
   "execution_count": null,
   "metadata": {},
   "outputs": [],
   "source": [
    "class_to_id = {\n",
    "    'crosswalk': 0,\n",
    "    'speedlimit': 1,\n",
    "    'stop': 2,\n",
    "    'trafficlight': 3\n",
    "}"
   ]
  },
  {
   "cell_type": "code",
   "execution_count": null,
   "metadata": {},
   "outputs": [],
   "source": [
    "def process_dataset(images_dir, annotations_dir, output_dir, target_size=(224, 224)):\n",
    "    image_files = os.listdir(images_dir)\n",
    "    annotation_files = os.listdir(annotations_dir)\n",
    "\n",
    "    # Create output directories\n",
    "    os.makedirs(output_dir, exist_ok=True)\n",
    "    os.makedirs(os.path.join(output_dir, 'train'), exist_ok=True)\n",
    "    os.makedirs(os.path.join(output_dir, 'val'), exist_ok=True)\n",
    "    os.makedirs(os.path.join(output_dir, 'test'), exist_ok=True)\n",
    "\n",
    "    # Split the dataset\n",
    "    train_files, test_files = train_test_split(image_files, test_size=0.3, random_state=42)\n",
    "    val_files, test_files = train_test_split(test_files, test_size=0.5, random_state=42)\n",
    "\n",
    "    for subset, files in [('train', train_files), ('val', val_files), ('test', test_files)]:\n",
    "        for file in files:\n",
    "            image_path = os.path.join(images_dir, file)\n",
    "            annotation_path = os.path.join(annotations_dir, file.replace('.png', '.xml'))\n",
    "\n",
    "            annotation = parse_annotation(annotation_path)\n",
    "            resized_image, resized_annotations = resize_image_and_bboxes(image_path, annotation, target_size)\n",
    "\n",
    "            # Save the resized image\n",
    "            resized_image.save(os.path.join(output_dir, subset, file))\n",
    "\n",
    "            # Save the resized annotations in YOLO format\n",
    "            with open(os.path.join(output_dir, subset, file.replace('.png', '.txt')), 'w') as f:\n",
    "                for obj in resized_annotations:\n",
    "                    bbox = obj['bndbox']\n",
    "                    class_id = class_to_id[obj['class']]  # You need to map class names to IDs\n",
    "                    f.write(f\"{class_id} {' '.join(map(str, bbox))}\\n\")\n"
   ]
  },
  {
   "cell_type": "code",
   "execution_count": null,
   "metadata": {},
   "outputs": [],
   "source": [
    "output_dir = 'output/'"
   ]
  },
  {
   "cell_type": "code",
   "execution_count": null,
   "metadata": {},
   "outputs": [],
   "source": [
    "process_dataset(images_dir, annotations_dir, output_dir)"
   ]
  },
  {
   "cell_type": "code",
   "execution_count": null,
   "metadata": {},
   "outputs": [],
   "source": [
    "!git clone https://github.com/ultralytics/yolov5"
   ]
  },
  {
   "cell_type": "code",
   "execution_count": null,
   "metadata": {},
   "outputs": [],
   "source": [
    "%pip install -r yolov5/requirements.txt"
   ]
  },
  {
   "cell_type": "code",
   "execution_count": null,
   "metadata": {},
   "outputs": [],
   "source": [
    "import yaml\n",
    "\n",
    "data_yaml = {\n",
    "    'train': 'output/train',\n",
    "    'val': 'output/val',\n",
    "    'test': 'output/test',\n",
    "    'nc': 4,\n",
    "    'names': ['crosswalk', 'speedlimit', 'stop', 'trafficlight']\n",
    "}\n",
    "\n",
    "yaml_file = 'output/dataset.yaml'  # Update this path\n",
    "\n",
    "with open(yaml_file, 'w') as file:\n",
    "    yaml.dump(data_yaml, file, sort_keys=False)\n"
   ]
  },
  {
   "cell_type": "code",
   "execution_count": null,
   "metadata": {},
   "outputs": [],
   "source": [
    "device = torch.device('cuda') if torch.cuda.is_available() else torch.device('cpu')\n",
    "device"
   ]
  },
  {
   "cell_type": "code",
   "execution_count": null,
   "metadata": {},
   "outputs": [],
   "source": [
    "!python yolov5/train.py --img 320 --batch 16 --epochs 50 --data output/dataset.yaml --weights yolov5s.pt\n"
   ]
  },
  {
   "cell_type": "code",
   "execution_count": null,
   "metadata": {},
   "outputs": [],
   "source": [
    "!python yolov5/val.py --weights yolov5/runs/train/exp/weights/best.pt --data output/dataset.yaml --img 320\n"
   ]
  },
  {
   "cell_type": "code",
   "execution_count": null,
   "metadata": {},
   "outputs": [],
   "source": [
    "!python yolov5/detect.py --weights yolov5/runs/train/exp/weights/best.pt --img 320 --conf 0.4 --source output/test\n"
   ]
  },
  {
   "cell_type": "code",
   "execution_count": null,
   "metadata": {},
   "outputs": [],
   "source": [
    "%load_ext tensorboard\n",
    "%tensorboard --logdir output/runs"
   ]
  }
 ],
 "metadata": {
  "kernelspec": {
   "display_name": "Python 3",
   "language": "python",
   "name": "python3"
  },
  "language_info": {
   "codemirror_mode": {
    "name": "ipython",
    "version": 3
   },
   "file_extension": ".py",
   "mimetype": "text/x-python",
   "name": "python",
   "nbconvert_exporter": "python",
   "pygments_lexer": "ipython3",
   "version": "3.11.7"
  },
  "orig_nbformat": 4
 },
 "nbformat": 4,
 "nbformat_minor": 2
}
